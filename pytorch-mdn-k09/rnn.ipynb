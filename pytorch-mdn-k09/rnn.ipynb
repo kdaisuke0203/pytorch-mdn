{
 "cells": [
  {
   "cell_type": "code",
   "execution_count": 1,
   "metadata": {},
   "outputs": [],
   "source": [
    "import torch\n",
    "import torch.nn as nn\n",
    "import torch.nn.functional as F\n",
    "from torch.nn.utils import clip_grad_norm_\n",
    "from torch.autograd import Variable\n",
    "from torchsummary import summary\n",
    "\n",
    "from torchvision.utils import save_image\n",
    "from IPython.core.display import Image, display\n",
    "\n",
    "import numpy as np\n",
    "import matplotlib.pyplot as plt\n",
    "from vae import VAE\n",
    "\n",
    "%load_ext autoreload\n",
    "%autoreload 2"
   ]
  },
  {
   "cell_type": "code",
   "execution_count": 2,
   "metadata": {},
   "outputs": [
    {
     "data": {
      "text/plain": [
       "device(type='cuda')"
      ]
     },
     "execution_count": 2,
     "metadata": {},
     "output_type": "execute_result"
    }
   ],
   "source": [
    "# Device configuration\n",
    "device = torch.device('cuda' if torch.cuda.is_available() else 'cpu')\n",
    "device"
   ]
  },
  {
   "cell_type": "code",
   "execution_count": 3,
   "metadata": {},
   "outputs": [],
   "source": [
    "# Truncated backpropagation\n",
    "def detach(states):\n",
    "    return [state.detach() for state in states] "
   ]
  },
  {
   "cell_type": "code",
   "execution_count": 4,
   "metadata": {},
   "outputs": [],
   "source": [
    "bsz = 20\n",
    "epochs = 500\n",
    "seqlen = 30\n",
    "\n",
    "zsize = 32\n",
    "nhidden = 256"
   ]
  },
  {
   "cell_type": "code",
   "execution_count": 5,
   "metadata": {},
   "outputs": [
    {
     "data": {
      "text/plain": [
       "torch.Size([20, 1500, 32])"
      ]
     },
     "execution_count": 5,
     "metadata": {},
     "output_type": "execute_result"
    }
   ],
   "source": [
    "z = torch.from_numpy(np.load('z.npy'))\n",
    "z = z.view(bsz, -1, z.size(1)).to(device)\n",
    "z.shape"
   ]
  },
  {
   "cell_type": "code",
   "execution_count": 6,
   "metadata": {},
   "outputs": [],
   "source": [
    "class V(nn.Module):\n",
    "    def __init__(self, nembed, nhidden=265, nlayers=1):\n",
    "        super(V, self).__init__()\n",
    "\n",
    "        self.nhidden = nhidden\n",
    "        self.nlayers = nlayers\n",
    "        \n",
    "        self.lstm = nn.LSTM(nembed, nhidden, nlayers, batch_first=True)\n",
    "        self.linear = nn.Linear(nhidden, nembed)\n",
    "        \n",
    "    def forward(self, x, h):\n",
    "        # Forward propagate LSTM\n",
    "        out, (h, c) = self.lstm(x, h)\n",
    "        out = self.linear(out)\n",
    "        return out, (h, c)\n",
    "    \n",
    "    def init_hidden(self, bsz):\n",
    "        return (torch.zeros(self.nlayers, bsz, self.nhidden).to(device),\n",
    "                torch.zeros(self.nlayers, bsz, self.nhidden).to(device))"
   ]
  },
  {
   "cell_type": "code",
   "execution_count": 7,
   "metadata": {},
   "outputs": [
    {
     "data": {
      "text/plain": [
       "V(\n",
       "  (lstm): LSTM(32, 256, batch_first=True)\n",
       "  (linear): Linear(in_features=256, out_features=32, bias=True)\n",
       ")"
      ]
     },
     "execution_count": 7,
     "metadata": {},
     "output_type": "execute_result"
    }
   ],
   "source": [
    "model = V(zsize, nhidden).to(device)\n",
    "model"
   ]
  },
  {
   "cell_type": "code",
   "execution_count": 8,
   "metadata": {},
   "outputs": [],
   "source": [
    "# Loss and optimizer\n",
    "criterion = nn.MSELoss()\n",
    "optimizer = torch.optim.Adam(model.parameters())"
   ]
  },
  {
   "cell_type": "code",
   "execution_count": 9,
   "metadata": {},
   "outputs": [
    {
     "name": "stdout",
     "output_type": "stream",
     "text": [
      "Epoch [1/500], Loss: 0.2344\n",
      "Epoch [51/500], Loss: 0.0190\n",
      "Epoch [101/500], Loss: 0.0128\n",
      "Epoch [151/500], Loss: 0.0099\n",
      "Epoch [201/500], Loss: 0.0085\n",
      "Epoch [251/500], Loss: 0.0075\n",
      "Epoch [301/500], Loss: 0.0058\n",
      "Epoch [351/500], Loss: 0.0053\n",
      "Epoch [401/500], Loss: 0.0082\n",
      "Epoch [451/500], Loss: 0.0046\n"
     ]
    }
   ],
   "source": [
    "# Train the model\n",
    "for epoch in range(epochs):\n",
    "    # Set initial hidden and cell states\n",
    "    hidden = model.init_hidden(bsz)\n",
    "    \n",
    "    for i in range(0, z.size(1) - seqlen, seqlen):\n",
    "        # Get mini-batch inputs and targets\n",
    "        inputs = z[:, i:i+seqlen, :]\n",
    "        targets = z[:, (i+1):(i+1)+seqlen, :]\n",
    "        \n",
    "        # Forward pass\n",
    "        hidden = detach(hidden)\n",
    "        outputs, hidden = model(inputs, hidden)\n",
    "        loss = criterion(outputs, targets)\n",
    "        \n",
    "        # Backward and optimize\n",
    "        model.zero_grad()\n",
    "        loss.backward()\n",
    "        clip_grad_norm_(model.parameters(), 0.5)\n",
    "        optimizer.step()\n",
    "        \n",
    "    if epoch % 50 == 0:\n",
    "        print ('Epoch [{}/{}], Loss: {:.4f}'\n",
    "               .format(epoch+1, epochs, loss.item()))"
   ]
  },
  {
   "cell_type": "code",
   "execution_count": 10,
   "metadata": {},
   "outputs": [],
   "source": [
    "# np.linalg.norm(z[0, 0, :].cpu().data - z1[0, :, :].cpu().data, axis=1)\n",
    "# np.linalg.norm(inputs.cpu().data - targets.cpu().data)"
   ]
  },
  {
   "cell_type": "markdown",
   "metadata": {},
   "source": [
    "### Test RNN next frame prediction"
   ]
  },
  {
   "cell_type": "code",
   "execution_count": 10,
   "metadata": {},
   "outputs": [],
   "source": [
    "vae = VAE(image_channels=3).to(device)\n",
    "vae.load_state_dict(torch.load('vae.torch', map_location='cpu'))"
   ]
  },
  {
   "cell_type": "code",
   "execution_count": 63,
   "metadata": {},
   "outputs": [
    {
     "name": "stdout",
     "output_type": "stream",
     "text": [
      "Current Frame\t\t\t\t Next Frame\t\t\t Next Frame Prediction\n"
     ]
    },
    {
     "data": {
      "image/png": "[encoded data removed]",
      "text/plain": [
       "<IPython.core.display.Image object>"
      ]
     },
     "metadata": {
      "image/png": {
       "unconfined": true,
       "width": 900
      }
     },
     "output_type": "display_data"
    }
   ],
   "source": [
    "zero = np.random.randint(z.size(0))\n",
    "one = np.random.randint(z.size(1))\n",
    "z_in = z[zero:zero+1, one:one+1, :]\n",
    "z_next = z[zero:zero+1, one+1:one+2, :]\n",
    "\n",
    "hidden = model.init_hidden(1)\n",
    "z_next_pred = model(z_in, hidden)[0]\n",
    "\n",
    "compare_x = torch.cat((vae.decode(z_in), vae.decode(z_next), vae.decode(z_next_pred)))\n",
    "\n",
    "# compare_x = vae.decode(z_out)\n",
    "save_image(compare_x.data.cpu(), 'sample_image.png')\n",
    "print(\"Current Frame\\t\\t\\t\\t\", \"Next Frame\\t\\t\\t\", \"Next Frame Prediction\")\n",
    "display(Image('sample_image.png', width=900, unconfined=True))"
   ]
  },
  {
   "cell_type": "code",
   "execution_count": null,
   "metadata": {},
   "outputs": [],
   "source": []
  }
 ],
 "metadata": {
  "kernelspec": {
   "display_name": "Python 3",
   "language": "python",
   "name": "python3"
  },
  "language_info": {
   "codemirror_mode": {
    "name": "ipython",
    "version": 3
   },
   "file_extension": ".py",
   "mimetype": "text/x-python",
   "name": "python",
   "nbconvert_exporter": "python",
   "pygments_lexer": "ipython3",
   "version": "3.6.4"
  }
 },
 "nbformat": 4,
 "nbformat_minor": 2
}
